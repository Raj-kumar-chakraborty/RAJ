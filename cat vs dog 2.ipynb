{
 "cells": [
  {
   "cell_type": "code",
   "execution_count": 1,
   "metadata": {},
   "outputs": [],
   "source": [
    "from tensorflow.keras.models import Sequential\n",
    "from tensorflow.keras.layers import Dense,Dropout,Activation,Flatten,Conv2D,MaxPooling2D\n",
    "import pickle"
   ]
  },
  {
   "cell_type": "code",
   "execution_count": 2,
   "metadata": {},
   "outputs": [],
   "source": [
    "X=pickle.load(open('X.pickle','rb'))\n",
    "y=pickle.load(open('y.pickle','rb'))"
   ]
  },
  {
   "cell_type": "code",
   "execution_count": 3,
   "metadata": {},
   "outputs": [],
   "source": [
    "X=X/255.0"
   ]
  },
  {
   "cell_type": "code",
   "execution_count": 4,
   "metadata": {},
   "outputs": [
    {
     "data": {
      "text/plain": [
       "array([0, 0, 0, ..., 0, 1, 0])"
      ]
     },
     "execution_count": 4,
     "metadata": {},
     "output_type": "execute_result"
    }
   ],
   "source": [
    "import numpy as np\n",
    "y=np.array(y)\n",
    "y"
   ]
  },
  {
   "cell_type": "code",
   "execution_count": 5,
   "metadata": {},
   "outputs": [
    {
     "name": "stdout",
     "output_type": "stream",
     "text": [
      "Train on 6404 samples, validate on 1601 samples\n",
      "Epoch 1/10\n",
      "WARNING:tensorflow:From C:\\Users\\Raj\\Anaconda3\\lib\\site-packages\\tensorflow-2.0.0rc0-py3.7-win-amd64.egg\\tensorflow_core\\python\\ops\\nn_impl.py:183: where (from tensorflow.python.ops.array_ops) is deprecated and will be removed in a future version.\n",
      "Instructions for updating:\n",
      "Use tf.where in 2.0, which has the same broadcast rule as np.where\n",
      "WARNING:tensorflow:Entity <function Function._initialize_uninitialized_variables.<locals>.initialize_variables at 0x00000259F2295048> could not be transformed and will be executed as-is. Please report this to the AutoGraph team. When filing the bug, set the verbosity to 10 (on Linux, `export AUTOGRAPH_VERBOSITY=10`) and attach the full output. Cause: module 'gast' has no attribute 'Num'\n",
      "WARNING: Entity <function Function._initialize_uninitialized_variables.<locals>.initialize_variables at 0x00000259F2295048> could not be transformed and will be executed as-is. Please report this to the AutoGraph team. When filing the bug, set the verbosity to 10 (on Linux, `export AUTOGRAPH_VERBOSITY=10`) and attach the full output. Cause: module 'gast' has no attribute 'Num'\n",
      "6404/6404 [==============================] - 72s 11ms/sample - loss: 0.6915 - accuracy: 0.5133 - val_loss: 0.7085 - val_accuracy: 0.5209\n",
      "Epoch 2/10\n",
      "6404/6404 [==============================] - 61s 9ms/sample - loss: 0.6844 - accuracy: 0.5562 - val_loss: 0.6643 - val_accuracy: 0.5871\n",
      "Epoch 3/10\n",
      "6404/6404 [==============================] - 62s 10ms/sample - loss: 0.6502 - accuracy: 0.6266 - val_loss: 0.6409 - val_accuracy: 0.6090\n",
      "Epoch 4/10\n",
      "6404/6404 [==============================] - 60s 9ms/sample - loss: 0.6099 - accuracy: 0.6691 - val_loss: 0.5795 - val_accuracy: 0.7214\n",
      "Epoch 5/10\n",
      "6404/6404 [==============================] - 60s 9ms/sample - loss: 0.5628 - accuracy: 0.7180 - val_loss: 0.5435 - val_accuracy: 0.7452\n",
      "Epoch 6/10\n",
      "6404/6404 [==============================] - 63s 10ms/sample - loss: 0.5244 - accuracy: 0.7475 - val_loss: 0.5823 - val_accuracy: 0.6908\n",
      "Epoch 7/10\n",
      "6404/6404 [==============================] - 60s 9ms/sample - loss: 0.4890 - accuracy: 0.7667 - val_loss: 0.5237 - val_accuracy: 0.7514\n",
      "Epoch 8/10\n",
      "6404/6404 [==============================] - 61s 10ms/sample - loss: 0.4603 - accuracy: 0.7851 - val_loss: 0.5467 - val_accuracy: 0.7164\n",
      "Epoch 9/10\n",
      "6404/6404 [==============================] - 61s 9ms/sample - loss: 0.4344 - accuracy: 0.7993 - val_loss: 0.5441 - val_accuracy: 0.7470\n",
      "Epoch 10/10\n",
      "6404/6404 [==============================] - 63s 10ms/sample - loss: 0.4062 - accuracy: 0.8145 - val_loss: 0.5513 - val_accuracy: 0.7283\n"
     ]
    },
    {
     "data": {
      "text/plain": [
       "<tensorflow.python.keras.callbacks.History at 0x259f226a3c8>"
      ]
     },
     "execution_count": 5,
     "metadata": {},
     "output_type": "execute_result"
    }
   ],
   "source": [
    "model=Sequential()\n",
    "model.add(Conv2D(64,(3,3),input_shape=X.shape[1:]))\n",
    "model.add(Activation('relu'))\n",
    "model.add(MaxPooling2D(pool_size=(2,2)))\n",
    "model.add(Conv2D(64,(3,3)))\n",
    "model.add(Activation('relu'))\n",
    "model.add(MaxPooling2D(pool_size=(2,2)))\n",
    "model.add(Conv2D(32,(3,3)))\n",
    "model.add(Activation('relu'))\n",
    "model.add(MaxPooling2D(pool_size=(2,2)))\n",
    "model.add(Conv2D(32,(3,3)))\n",
    "model.add(Activation('relu'))\n",
    "model.add(MaxPooling2D(pool_size=(2,2)))\n",
    "model.add(Flatten())\n",
    "model.add(Dense(1))\n",
    "model.add(Activation('sigmoid'))\n",
    "model.compile(loss='binary_crossentropy',optimizer='adam',metrics=['accuracy'])\n",
    "model.fit(X,y,batch_size=34,validation_split=0.2,epochs=10)"
   ]
  },
  {
   "cell_type": "code",
   "execution_count": 8,
   "metadata": {},
   "outputs": [],
   "source": [
    "import cv2"
   ]
  },
  {
   "cell_type": "code",
   "execution_count": 9,
   "metadata": {},
   "outputs": [],
   "source": [
    "def prepare(filepath):\n",
    "    img_size=60\n",
    "    img_array=cv2.imread(filepath,cv2.IMREAD_GRAYSCALE)\n",
    "    new_array=cv2.resize(img_array,(img_size,img_size))\n",
    "    return np.array(new_array).reshape(-1,img_size,img_size,1)"
   ]
  },
  {
   "cell_type": "code",
   "execution_count": 10,
   "metadata": {},
   "outputs": [
    {
     "data": {
      "text/plain": [
       "array([[[[0.16862745],\n",
       "         [0.16470588],\n",
       "         [0.14509804],\n",
       "         ...,\n",
       "         [0.3254902 ],\n",
       "         [0.39607843],\n",
       "         [0.76078431]],\n",
       "\n",
       "        [[0.15686275],\n",
       "         [0.15686275],\n",
       "         [0.1372549 ],\n",
       "         ...,\n",
       "         [0.4       ],\n",
       "         [0.35686275],\n",
       "         [0.75294118]],\n",
       "\n",
       "        [[0.15294118],\n",
       "         [0.15686275],\n",
       "         [0.21960784],\n",
       "         ...,\n",
       "         [0.36470588],\n",
       "         [0.38431373],\n",
       "         [0.79215686]],\n",
       "\n",
       "        ...,\n",
       "\n",
       "        [[0.09411765],\n",
       "         [0.08627451],\n",
       "         [0.09019608],\n",
       "         ...,\n",
       "         [0.22745098],\n",
       "         [0.36862745],\n",
       "         [0.19215686]],\n",
       "\n",
       "        [[0.08235294],\n",
       "         [0.07843137],\n",
       "         [0.09019608],\n",
       "         ...,\n",
       "         [0.14901961],\n",
       "         [0.32941176],\n",
       "         [0.23137255]],\n",
       "\n",
       "        [[0.09803922],\n",
       "         [0.09411765],\n",
       "         [0.09019608],\n",
       "         ...,\n",
       "         [0.31764706],\n",
       "         [0.33333333],\n",
       "         [0.10588235]]]])"
      ]
     },
     "execution_count": 10,
     "metadata": {},
     "output_type": "execute_result"
    }
   ],
   "source": [
    "a=prepare('meow.jpg')\n",
    "a=a/255\n",
    "a"
   ]
  },
  {
   "cell_type": "code",
   "execution_count": 11,
   "metadata": {},
   "outputs": [],
   "source": [
    "pred=model.predict([a])"
   ]
  },
  {
   "cell_type": "code",
   "execution_count": 12,
   "metadata": {},
   "outputs": [
    {
     "data": {
      "text/plain": [
       "array([[0.99386]], dtype=float32)"
      ]
     },
     "execution_count": 12,
     "metadata": {},
     "output_type": "execute_result"
    }
   ],
   "source": [
    "pred"
   ]
  },
  {
   "cell_type": "code",
   "execution_count": 1,
   "metadata": {},
   "outputs": [],
   "source": []
  },
  {
   "cell_type": "code",
   "execution_count": null,
   "metadata": {},
   "outputs": [],
   "source": []
  }
 ],
 "metadata": {
  "kernelspec": {
   "display_name": "Python 3",
   "language": "python",
   "name": "python3"
  },
  "language_info": {
   "codemirror_mode": {
    "name": "ipython",
    "version": 3
   },
   "file_extension": ".py",
   "mimetype": "text/x-python",
   "name": "python",
   "nbconvert_exporter": "python",
   "pygments_lexer": "ipython3",
   "version": "3.7.3"
  }
 },
 "nbformat": 4,
 "nbformat_minor": 2
}
